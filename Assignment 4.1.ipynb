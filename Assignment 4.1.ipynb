{
 "cells": [
  {
   "cell_type": "code",
   "execution_count": null,
   "metadata": {},
   "outputs": [],
   "source": [
    "Question"
   ]
  },
  {
   "cell_type": "code",
   "execution_count": null,
   "metadata": {},
   "outputs": [],
   "source": [
    "You survey households in your area to find the average rent they are paying. Find the\n",
    "standard deviation from the following data:\n",
    "$1550, $1700, $900, $850, $1000, $950."
   ]
  },
  {
   "cell_type": "code",
   "execution_count": null,
   "metadata": {},
   "outputs": [],
   "source": [
    "Answer"
   ]
  },
  {
   "cell_type": "code",
   "execution_count": 1,
   "metadata": {},
   "outputs": [
    {
     "name": "stdout",
     "output_type": "stream",
     "text": [
      "The standard deviation is 367.99003609699366.\n"
     ]
    }
   ],
   "source": [
    "from math import sqrt\n",
    "\n",
    "def standard_deviation(x):\n",
    "    num_house = len(x)\n",
    "    mean = sum(x) / num_house\n",
    "    differences = [y - mean for y in x]\n",
    "    squared_differences = [d ** 2 for d in differences]\n",
    "    ssd = sum(squared_differences)\n",
    "    variance = ssd / (num_house - 1)\n",
    "    sd = sqrt(variance)\n",
    "    print('The standard deviation is {}.'.format(sd))\n",
    "    \n",
    "rent = [1550,1700,900,850,1000,950]\n",
    "standard_deviation(rent)"
   ]
  }
 ],
 "metadata": {
  "kernelspec": {
   "display_name": "Python 3",
   "language": "python",
   "name": "python3"
  },
  "language_info": {
   "codemirror_mode": {
    "name": "ipython",
    "version": 3
   },
   "file_extension": ".py",
   "mimetype": "text/x-python",
   "name": "python",
   "nbconvert_exporter": "python",
   "pygments_lexer": "ipython3",
   "version": "3.6.6"
  }
 },
 "nbformat": 4,
 "nbformat_minor": 2
}
